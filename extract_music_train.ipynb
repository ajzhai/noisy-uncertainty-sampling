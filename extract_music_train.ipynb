{
 "cells": [
  {
   "cell_type": "code",
   "execution_count": 29,
   "metadata": {},
   "outputs": [],
   "source": [
    "import numpy as np\n",
    "import pickle as pkl"
   ]
  },
  {
   "cell_type": "code",
   "execution_count": 30,
   "metadata": {},
   "outputs": [],
   "source": [
    "f = open('mturk/music_genre_classification/music_genre_test.csv')\n",
    "data = []\n",
    "for line in f:\n",
    "    data.append(line.rstrip().split(','))"
   ]
  },
  {
   "cell_type": "code",
   "execution_count": 35,
   "metadata": {},
   "outputs": [],
   "source": [
    "data_ftr = {}\n",
    "data_y = {}\n",
    "for i in range(1, len(data)):\n",
    "    key = data[i][0]\n",
    "    data_ftr[key] = np.array([float(x) for x in data[i][1:1 + 124]])\n",
    "for i in range(1, len(data)):\n",
    "    key = data[i][0]\n",
    "    y = data[i][125]\n",
    "    if key in data_y:\n",
    "        data_y[key].append(y)\n",
    "    else:\n",
    "        data_y[key] = [y]\n",
    "        \n",
    "total_data = []\n",
    "for key in data_ftr:\n",
    "    total_data.append((data_ftr[key], data_y[key]))"
   ]
  },
  {
   "cell_type": "code",
   "execution_count": 36,
   "metadata": {},
   "outputs": [
    {
     "data": {
      "text/plain": [
       "300"
      ]
     },
     "execution_count": 36,
     "metadata": {},
     "output_type": "execute_result"
    }
   ],
   "source": [
    "len(total_data)"
   ]
  },
  {
   "cell_type": "code",
   "execution_count": 38,
   "metadata": {},
   "outputs": [],
   "source": [
    "pkl.dump(total_data, open(\"music_test.pkl\", \"wb\" ) )"
   ]
  },
  {
   "cell_type": "code",
   "execution_count": null,
   "metadata": {},
   "outputs": [],
   "source": []
  }
 ],
 "metadata": {
  "kernelspec": {
   "display_name": "Python 3",
   "language": "python",
   "name": "python3"
  },
  "language_info": {
   "codemirror_mode": {
    "name": "ipython",
    "version": 3
   },
   "file_extension": ".py",
   "mimetype": "text/x-python",
   "name": "python",
   "nbconvert_exporter": "python",
   "pygments_lexer": "ipython3",
   "version": "3.7.3"
  }
 },
 "nbformat": 4,
 "nbformat_minor": 2
}
